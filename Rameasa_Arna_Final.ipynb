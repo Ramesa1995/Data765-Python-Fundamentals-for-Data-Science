{
 "cells": [
  {
   "cell_type": "markdown",
   "id": "a05b1047",
   "metadata": {},
   "source": [
    "<img src = \"https://media.istockphoto.com/vectors/happy-flat-people-characters-jumping-dancing-cartoons-in-various-vector-id1031423064\" align = right width = 450>\n",
    "<h1 align = left> Data 765: Final Project</h1>\n",
    "<h2 align = left> Research Question : Is there a link between marriage and happiness? </h2>\n",
    "<h3 align = left> By :  Rameasa Arna </h3>"
   ]
  },
  {
   "cell_type": "markdown",
   "id": "9c74e735",
   "metadata": {},
   "source": [
    "# Introduction"
   ]
  },
  {
   "cell_type": "markdown",
   "id": "939b007e",
   "metadata": {},
   "source": [
    "One of the most powerful indicators of overall happiness rely on marital status. There is a substantial and ubiquitous link between married status and happiness. In this research, we'll use GSS to look at the relationship between happiness and marital status, which has been collecting data on modern American society since 1972 in order to track and analyze trends in attitudes, actions, and belief. We only used a sample of the 2012 GSS survey for this article, which included 1974 observations and 221 variables. We constructed a subset with four variables for our research topic. Two of the control variables are \"age\" and \"sex.\"\n",
    "\n",
    "We assumed that married people are happier than other types of people before looking into the facts. This belief is based on the fact that when people have a partner, they can discuss everything, which gives them mental serenity."
   ]
  },
  {
   "cell_type": "markdown",
   "id": "8bceb8c5",
   "metadata": {},
   "source": [
    "# Data"
   ]
  },
  {
   "cell_type": "code",
   "execution_count": 1,
   "id": "81607d6f",
   "metadata": {},
   "outputs": [
    {
     "name": "stdout",
     "output_type": "stream",
     "text": [
      "<class 'pandas.core.frame.DataFrame'>\n",
      "RangeIndex: 1974 entries, 0 to 1973\n",
      "Data columns (total 4 columns):\n",
      " #   Column   Non-Null Count  Dtype  \n",
      "---  ------   --------------  -----  \n",
      " 0   marital  1974 non-null   object \n",
      " 1   sex      1974 non-null   object \n",
      " 2   age      1969 non-null   float64\n",
      " 3   happy    1964 non-null   object \n",
      "dtypes: float64(1), object(3)\n",
      "memory usage: 61.8+ KB\n",
      "None\n",
      "         marital     sex   age         happy\n",
      "0  Never married    Male  22.0    VERY HAPPY\n",
      "1  Never married    Male  21.0    VERY HAPPY\n",
      "2        Married    Male  42.0  PRETTY HAPPY\n",
      "3        Married  Female  49.0    VERY HAPPY\n",
      "4      Separated  Female  70.0    VERY HAPPY\n"
     ]
    }
   ],
   "source": [
    "import pandas as pd                \n",
    "import numpy as np   \n",
    "import matplotlib.pyplot as plt  \n",
    "import seaborn as sns \n",
    "%matplotlib inline                                  \n",
    "path = 'https://raw.githubusercontent.com/UC-MACSS/persp-analysis/master/assignments/exploratory-data-analysis/data/gss2012.csv'\n",
    "\n",
    "df = pd.read_csv(path, header=0)  \n",
    "df.columns.values\n",
    "# making a new dataframe with the cols using for the research topic\n",
    "\n",
    "happiness = df[['marital', \"sex\",\"age\", \"happy\"]]\n",
    "print(happiness.info())\n",
    "print(happiness.head())"
   ]
  },
  {
   "cell_type": "markdown",
   "id": "35c002ed",
   "metadata": {},
   "source": [
    "# Variable : happy"
   ]
  },
  {
   "cell_type": "code",
   "execution_count": 6,
   "id": "c868bf82",
   "metadata": {},
   "outputs": [
    {
     "data": {
      "text/plain": [
       "['VERY HAPPY', 'PRETTY HAPPY', 'NOT TOO HAPPY', NaN]\n",
       "Categories (3, object): ['NOT TOO HAPPY' < 'PRETTY HAPPY' < 'VERY HAPPY']"
      ]
     },
     "execution_count": 6,
     "metadata": {},
     "output_type": "execute_result"
    }
   ],
   "source": [
    "happiness.happy.unique()"
   ]
  },
  {
   "cell_type": "code",
   "execution_count": 7,
   "id": "2e8ddb2e",
   "metadata": {},
   "outputs": [
    {
     "data": {
      "text/plain": [
       "['VERY HAPPY', 'PRETTY HAPPY', 'NOT TOO HAPPY', NaN]\n",
       "Categories (3, object): ['NOT TOO HAPPY' < 'PRETTY HAPPY' < 'VERY HAPPY']"
      ]
     },
     "execution_count": 7,
     "metadata": {},
     "output_type": "execute_result"
    }
   ],
   "source": [
    "happiness.happy = pd.Categorical(happiness.happy, \n",
    "            categories=['NOT TOO HAPPY', 'PRETTY HAPPY', 'VERY HAPPY'],   \n",
    "            ordered=True)                                                     \n",
    "happiness.happy.unique() \n"
   ]
  },
  {
   "cell_type": "markdown",
   "id": "d2d86c28",
   "metadata": {},
   "source": [
    "Happy has three categories, We have turned the happy variable into ordinal categorical variable "
   ]
  },
  {
   "cell_type": "code",
   "execution_count": 8,
   "id": "652f877d",
   "metadata": {},
   "outputs": [
    {
     "data": {
      "text/plain": [
       "PRETTY HAPPY     1094\n",
       "VERY HAPPY        593\n",
       "NOT TOO HAPPY     277\n",
       "Name: happy, dtype: int64"
      ]
     },
     "execution_count": 8,
     "metadata": {},
     "output_type": "execute_result"
    }
   ],
   "source": [
    "happiness.happy.value_counts()"
   ]
  },
  {
   "cell_type": "code",
   "execution_count": 9,
   "id": "8d439559",
   "metadata": {},
   "outputs": [
    {
     "data": {
      "text/plain": [
       "Text(0, 0.5, 'Happiness Level')"
      ]
     },
     "execution_count": 9,
     "metadata": {},
     "output_type": "execute_result"
    },
    {
     "data": {
      "image/png": "[encoded data removed]",
      "text/plain": [
       "<Figure size 432x288 with 1 Axes>"
      ]
     },
     "metadata": {
      "needs_background": "light"
     },
     "output_type": "display_data"
    }
   ],
   "source": [
    "happiness.groupby('happy').size().plot(kind='barh', color=['red', 'green', 'blue'])\n",
    "plt.title('Happiness measurment of the 2012 GSS sample', fontsize=15)\n",
    "plt.xlabel('Number of Observations', fontsize=15)\n",
    "plt.ylabel('Happiness Level', fontsize=15)"
   ]
  },
  {
   "cell_type": "markdown",
   "id": "372729b2",
   "metadata": {},
   "source": [
    "Happiness is a three-category ordinal variable: very happy, pretty happy, and not too happy. According to the graph, most people are generally happy, and the percentage of individuals who are not too happy is lower than the percentage of people who are pretty happy or very happy."
   ]
  },
  {
   "cell_type": "markdown",
   "id": "fddce1de",
   "metadata": {},
   "source": [
    "# Variable : marital"
   ]
  },
  {
   "cell_type": "code",
   "execution_count": 10,
   "id": "f468fd2e",
   "metadata": {},
   "outputs": [
    {
     "data": {
      "text/plain": [
       "array(['Never married', 'Married', 'Separated', 'Widowed', 'Divorced'],\n",
       "      dtype=object)"
      ]
     },
     "execution_count": 10,
     "metadata": {},
     "output_type": "execute_result"
    }
   ],
   "source": [
    "happiness.marital.unique()"
   ]
  },
  {
   "cell_type": "code",
   "execution_count": 11,
   "id": "0cd499dc",
   "metadata": {},
   "outputs": [
    {
     "data": {
      "text/plain": [
       "Married          900\n",
       "Never married    526\n",
       "Divorced         317\n",
       "Widowed          163\n",
       "Separated         68\n",
       "Name: marital, dtype: int64"
      ]
     },
     "execution_count": 11,
     "metadata": {},
     "output_type": "execute_result"
    }
   ],
   "source": [
    "happiness.marital.value_counts()"
   ]
  },
  {
   "cell_type": "code",
   "execution_count": 12,
   "id": "e990f66c",
   "metadata": {},
   "outputs": [
    {
     "data": {
      "text/plain": [
       "Text(0, 0.5, 'Number of Observations')"
      ]
     },
     "execution_count": 12,
     "metadata": {},
     "output_type": "execute_result"
    },
    {
     "data": {
      "image/png": "[encoded data removed]",
      "text/plain": [
       "<Figure size 432x288 with 1 Axes>"
      ]
     },
     "metadata": {
      "needs_background": "light"
     },
     "output_type": "display_data"
    }
   ],
   "source": [
    "happiness.groupby('marital').size().sort_values(ascending=False).plot(kind='bar', color = ['#1f77b4', '#ff7f0e', '#2ca02c', '#d62728', '#9467bd'])\n",
    "plt.title('Marriage distribution of the 2012 GSS sample', fontsize=15)\n",
    "plt.xlabel('Marital Status', fontsize=15)\n",
    "plt.ylabel('Number of Observations', fontsize=15)"
   ]
  },
  {
   "cell_type": "markdown",
   "id": "4b6900ce",
   "metadata": {},
   "source": [
    "The marital status of the respondent is represented by the variable marital. According to the data, the majority of people are married, with the fewest persons being separated."
   ]
  },
  {
   "cell_type": "markdown",
   "id": "df86e389",
   "metadata": {},
   "source": [
    " # Variable : sex"
   ]
  },
  {
   "cell_type": "code",
   "execution_count": 13,
   "id": "6860e957",
   "metadata": {},
   "outputs": [
    {
     "data": {
      "text/plain": [
       "array(['Male', 'Female'], dtype=object)"
      ]
     },
     "execution_count": 13,
     "metadata": {},
     "output_type": "execute_result"
    }
   ],
   "source": [
    "happiness.sex.unique()"
   ]
  },
  {
   "cell_type": "code",
   "execution_count": 14,
   "id": "ce484bc0",
   "metadata": {},
   "outputs": [
    {
     "data": {
      "text/plain": [
       "Female    1088\n",
       "Male       886\n",
       "Name: sex, dtype: int64"
      ]
     },
     "execution_count": 14,
     "metadata": {},
     "output_type": "execute_result"
    }
   ],
   "source": [
    "happiness.sex.value_counts()"
   ]
  },
  {
   "cell_type": "code",
   "execution_count": 15,
   "id": "e40dd234",
   "metadata": {},
   "outputs": [
    {
     "data": {
      "text/plain": [
       "Text(0, 0.5, 'Number of Observations')"
      ]
     },
     "execution_count": 15,
     "metadata": {},
     "output_type": "execute_result"
    },
    {
     "data": {
      "image/png": "[encoded data removed]",
      "text/plain": [
       "<Figure size 432x288 with 1 Axes>"
      ]
     },
     "metadata": {
      "needs_background": "light"
     },
     "output_type": "display_data"
    }
   ],
   "source": [
    "happiness.groupby('sex').size().plot(kind='bar',color = ['#1f77b4', '#ff7f0e'])\n",
    "plt.title('Sex distribution of the 2012 GSS sample', fontsize=15)\n",
    "plt.xlabel('Sex', fontsize=15)\n",
    "plt.ylabel('Number of Observations', fontsize=15)"
   ]
  },
  {
   "cell_type": "markdown",
   "id": "ce962398",
   "metadata": {},
   "source": [
    "It is evident from this graph that there are more female respondents than male respondents.\n"
   ]
  },
  {
   "cell_type": "markdown",
   "id": "9254cbee",
   "metadata": {},
   "source": [
    " # Variable : age"
   ]
  },
  {
   "cell_type": "code",
   "execution_count": 16,
   "id": "3df61f8f",
   "metadata": {},
   "outputs": [
    {
     "data": {
      "text/plain": [
       "count    1969.000000\n",
       "mean       48.193499\n",
       "std        17.687113\n",
       "min        18.000000\n",
       "25%        33.000000\n",
       "50%        47.000000\n",
       "75%        61.000000\n",
       "max        89.000000\n",
       "Name: age, dtype: float64"
      ]
     },
     "execution_count": 16,
     "metadata": {},
     "output_type": "execute_result"
    }
   ],
   "source": [
    " happiness.age.describe()"
   ]
  },
  {
   "cell_type": "code",
   "execution_count": 17,
   "id": "3a61ee23",
   "metadata": {},
   "outputs": [
    {
     "data": {
      "text/plain": [
       "Text(0, 0.5, 'Number of Observations')"
      ]
     },
     "execution_count": 17,
     "metadata": {},
     "output_type": "execute_result"
    },
    {
     "data": {
      "image/png": "[encoded data removed]",
      "text/plain": [
       "<Figure size 432x288 with 1 Axes>"
      ]
     },
     "metadata": {
      "needs_background": "light"
     },
     "output_type": "display_data"
    }
   ],
   "source": [
    "happiness.age.plot(kind='hist', bins = 15) \n",
    "plt.title('Age distribution of the 2012 GSS sample', fontsize=15)\n",
    "plt.xlabel('Age', fontsize=15)\n",
    "plt.ylabel('Number of Observations', fontsize=15)"
   ]
  },
  {
   "cell_type": "markdown",
   "id": "9d7e6043",
   "metadata": {},
   "source": [
    "The variable age is normally distributed and majority of the responses appear to be between the ages of 25 and 65, with a few respondents between the ages of 70 and 90."
   ]
  },
  {
   "cell_type": "markdown",
   "id": "c83d9f6a",
   "metadata": {},
   "source": [
    "# Data Transformation"
   ]
  },
  {
   "cell_type": "code",
   "execution_count": 18,
   "id": "202e5037",
   "metadata": {},
   "outputs": [
    {
     "name": "stdout",
     "output_type": "stream",
     "text": [
      "<class 'pandas.core.frame.DataFrame'>\n",
      "Int64Index: 1959 entries, 0 to 1973\n",
      "Data columns (total 4 columns):\n",
      " #   Column   Non-Null Count  Dtype   \n",
      "---  ------   --------------  -----   \n",
      " 0   marital  1959 non-null   object  \n",
      " 1   sex      1959 non-null   object  \n",
      " 2   age      1959 non-null   float64 \n",
      " 3   happy    1959 non-null   category\n",
      "dtypes: category(1), float64(1), object(2)\n",
      "memory usage: 63.2+ KB\n"
     ]
    }
   ],
   "source": [
    "#Drop Missing Values in Selected Columns Only\n",
    "\n",
    "happiness = happiness.dropna()\n",
    "happiness.info()"
   ]
  },
  {
   "cell_type": "markdown",
   "id": "b341aa3f",
   "metadata": {},
   "source": [
    "During the data transformation, we didn't make many changes. There are no missing sex or marital values. However, there are ten missing values for happy and five missing values for age. As a result, we simply removed the NA values for the variables happy and age. The data originally contained 1974 entries, but after removing the NAs, it currently contains 1959 entries. Furthermore, we modified the dtype of happy to an ordinal categorical one."
   ]
  },
  {
   "cell_type": "markdown",
   "id": "e3153166",
   "metadata": {},
   "source": [
    "# Data Analysis"
   ]
  },
  {
   "cell_type": "markdown",
   "id": "cb6f7dc3",
   "metadata": {},
   "source": [
    "## Method "
   ]
  },
  {
   "cell_type": "markdown",
   "id": "7cd5ed9d",
   "metadata": {},
   "source": [
    "The association between happiness and marital status will be examined in this study. The two control variables, sex and age, will then be added to see if the link between happiness and marital status changes. We'll utilize crosstabulations to see how happiness changes by marital status in order to investigate this."
   ]
  },
  {
   "cell_type": "markdown",
   "id": "c6b5c442",
   "metadata": {},
   "source": [
    "## Crosstab of happy and marital status\n"
   ]
  },
  {
   "cell_type": "code",
   "execution_count": 19,
   "id": "0df3d84a",
   "metadata": {},
   "outputs": [
    {
     "data": {
      "text/plain": [
       "(155.3293764378314,\n",
       " 1.5137528452630472e-29,\n",
       " 8,\n",
       " array([[ 43.91832568, 175.19244513,  94.8892292 ],\n",
       "        [125.18121491, 499.35426238, 270.46452272],\n",
       "        [ 73.29045431, 292.35936702, 158.35017866],\n",
       "        [  9.23124043,  36.82388974,  19.94486983],\n",
       "        [ 22.37876468,  89.27003573,  48.35119959]]))"
      ]
     },
     "execution_count": 19,
     "metadata": {},
     "output_type": "execute_result"
    }
   ],
   "source": [
    "import scipy.stats as stats              \n",
    "crosstab = happiness.groupby([\"marital\", \"happy\"]).size().unstack()\n",
    "stats.chi2_contingency(crosstab)"
   ]
  },
  {
   "cell_type": "markdown",
   "id": "ec6a31cd",
   "metadata": {},
   "source": [
    "The p-value here is less than .05 which means there is a statistically significant relationship between marital status and  happy. "
   ]
  },
  {
   "cell_type": "code",
   "execution_count": 20,
   "id": "86f7f64c",
   "metadata": {},
   "outputs": [
    {
     "data": {
      "text/html": [
       "<div>\n",
       "<style scoped>\n",
       "    .dataframe tbody tr th:only-of-type {\n",
       "        vertical-align: middle;\n",
       "    }\n",
       "\n",
       "    .dataframe tbody tr th {\n",
       "        vertical-align: top;\n",
       "    }\n",
       "\n",
       "    .dataframe thead th {\n",
       "        text-align: right;\n",
       "    }\n",
       "</style>\n",
       "<table border=\"1\" class=\"dataframe\">\n",
       "  <thead>\n",
       "    <tr style=\"text-align: right;\">\n",
       "      <th>happy</th>\n",
       "      <th>NOT TOO HAPPY</th>\n",
       "      <th>PRETTY HAPPY</th>\n",
       "      <th>VERY HAPPY</th>\n",
       "    </tr>\n",
       "    <tr>\n",
       "      <th>marital</th>\n",
       "      <th></th>\n",
       "      <th></th>\n",
       "      <th></th>\n",
       "    </tr>\n",
       "  </thead>\n",
       "  <tbody>\n",
       "    <tr>\n",
       "      <th>Divorced</th>\n",
       "      <td>0.191083</td>\n",
       "      <td>0.605096</td>\n",
       "      <td>0.203822</td>\n",
       "    </tr>\n",
       "    <tr>\n",
       "      <th>Married</th>\n",
       "      <td>0.069274</td>\n",
       "      <td>0.511732</td>\n",
       "      <td>0.418994</td>\n",
       "    </tr>\n",
       "    <tr>\n",
       "      <th>Never married</th>\n",
       "      <td>0.188931</td>\n",
       "      <td>0.603053</td>\n",
       "      <td>0.208015</td>\n",
       "    </tr>\n",
       "    <tr>\n",
       "      <th>Separated</th>\n",
       "      <td>0.363636</td>\n",
       "      <td>0.484848</td>\n",
       "      <td>0.151515</td>\n",
       "    </tr>\n",
       "    <tr>\n",
       "      <th>Widowed</th>\n",
       "      <td>0.181250</td>\n",
       "      <td>0.606250</td>\n",
       "      <td>0.212500</td>\n",
       "    </tr>\n",
       "  </tbody>\n",
       "</table>\n",
       "</div>"
      ],
      "text/plain": [
       "happy          NOT TOO HAPPY  PRETTY HAPPY  VERY HAPPY\n",
       "marital                                               \n",
       "Divorced            0.191083      0.605096    0.203822\n",
       "Married             0.069274      0.511732    0.418994\n",
       "Never married       0.188931      0.603053    0.208015\n",
       "Separated           0.363636      0.484848    0.151515\n",
       "Widowed             0.181250      0.606250    0.212500"
      ]
     },
     "execution_count": 20,
     "metadata": {},
     "output_type": "execute_result"
    }
   ],
   "source": [
    "pd.crosstab(values=happiness[\"marital\"],\n",
    "            index=happiness[\"marital\"],\n",
    "            columns=happiness[\"happy\"],\n",
    "            aggfunc='count',\n",
    "            normalize='index')"
   ]
  },
  {
   "cell_type": "markdown",
   "id": "46dfc8c6",
   "metadata": {},
   "source": [
    "We can see from the table that most people are happy, regardless of their marital status. Married people, on the other hand, have the highest number of people who are very happy, at 42 percent. Furthermore, only 6% of married people are \"not very happy,\" which is a very low ratio compared to the rest of the group. When the percentages of pretty happy and happy are added together, it becomes evident that married people are the happiest of all the groups."
   ]
  },
  {
   "cell_type": "code",
   "execution_count": 21,
   "id": "7900cf26",
   "metadata": {},
   "outputs": [
    {
     "data": {
      "text/plain": [
       "Text(0, 0.5, 'proportion')"
      ]
     },
     "execution_count": 21,
     "metadata": {},
     "output_type": "execute_result"
    },
    {
     "data": {
      "image/png": "[encoded data removed]",
      "text/plain": [
       "<Figure size 576x432 with 1 Axes>"
      ]
     },
     "metadata": {
      "needs_background": "light"
     },
     "output_type": "display_data"
    }
   ],
   "source": [
    "pd.crosstab(values=happiness[\"marital\"],\n",
    "            index=happiness[\"marital\"],\n",
    "            columns=happiness[\"happy\"],\n",
    "            aggfunc='count',\n",
    "            normalize='index').plot(kind='bar', \n",
    "                                    figsize=(8, 6)) \n",
    "\n",
    "plt.title('Relation between maarital status and happiness, the 2012 GSS Data', fontsize=15)\n",
    "plt.xlabel('Marital Status', fontsize=15)\n",
    "plt.ylabel('proportion', fontsize=15)\n",
    "                                    "
   ]
  },
  {
   "cell_type": "markdown",
   "id": "1bedeae6",
   "metadata": {},
   "source": [
    "The relationship between marital status and happiness is depicted in this diagram. It is evident from the graphic that married people are generally happy."
   ]
  },
  {
   "cell_type": "markdown",
   "id": "a9afe91a",
   "metadata": {},
   "source": [
    "## Crosstab of age, happy and marital status"
   ]
  },
  {
   "cell_type": "code",
   "execution_count": 22,
   "id": "4ae0a7f3",
   "metadata": {},
   "outputs": [
    {
     "data": {
      "text/html": [
       "<div>\n",
       "<style scoped>\n",
       "    .dataframe tbody tr th:only-of-type {\n",
       "        vertical-align: middle;\n",
       "    }\n",
       "\n",
       "    .dataframe tbody tr th {\n",
       "        vertical-align: top;\n",
       "    }\n",
       "\n",
       "    .dataframe thead th {\n",
       "        text-align: right;\n",
       "    }\n",
       "</style>\n",
       "<table border=\"1\" class=\"dataframe\">\n",
       "  <thead>\n",
       "    <tr style=\"text-align: right;\">\n",
       "      <th>happy</th>\n",
       "      <th>NOT TOO HAPPY</th>\n",
       "      <th>PRETTY HAPPY</th>\n",
       "      <th>VERY HAPPY</th>\n",
       "    </tr>\n",
       "    <tr>\n",
       "      <th>marital</th>\n",
       "      <th></th>\n",
       "      <th></th>\n",
       "      <th></th>\n",
       "    </tr>\n",
       "  </thead>\n",
       "  <tbody>\n",
       "    <tr>\n",
       "      <th>Divorced</th>\n",
       "      <td>54.0</td>\n",
       "      <td>53.0</td>\n",
       "      <td>56.5</td>\n",
       "    </tr>\n",
       "    <tr>\n",
       "      <th>Married</th>\n",
       "      <td>48.0</td>\n",
       "      <td>48.0</td>\n",
       "      <td>48.0</td>\n",
       "    </tr>\n",
       "    <tr>\n",
       "      <th>Never married</th>\n",
       "      <td>35.0</td>\n",
       "      <td>30.0</td>\n",
       "      <td>27.0</td>\n",
       "    </tr>\n",
       "    <tr>\n",
       "      <th>Separated</th>\n",
       "      <td>54.5</td>\n",
       "      <td>42.0</td>\n",
       "      <td>45.5</td>\n",
       "    </tr>\n",
       "    <tr>\n",
       "      <th>Widowed</th>\n",
       "      <td>72.0</td>\n",
       "      <td>75.0</td>\n",
       "      <td>76.5</td>\n",
       "    </tr>\n",
       "  </tbody>\n",
       "</table>\n",
       "</div>"
      ],
      "text/plain": [
       "happy          NOT TOO HAPPY  PRETTY HAPPY  VERY HAPPY\n",
       "marital                                               \n",
       "Divorced                54.0          53.0        56.5\n",
       "Married                 48.0          48.0        48.0\n",
       "Never married           35.0          30.0        27.0\n",
       "Separated               54.5          42.0        45.5\n",
       "Widowed                 72.0          75.0        76.5"
      ]
     },
     "execution_count": 22,
     "metadata": {},
     "output_type": "execute_result"
    }
   ],
   "source": [
    "happiness.pivot_table(values=\"age\",\n",
    "                index=\"marital\",\n",
    "                columns=\"happy\",                                         \n",
    "                aggfunc='median')"
   ]
  },
  {
   "cell_type": "code",
   "execution_count": 23,
   "id": "c5423305",
   "metadata": {},
   "outputs": [
    {
     "data": {
      "text/plain": [
       "Text(0.5, 1.0, 'Relationship Between Age, Happy and Marital Status')"
      ]
     },
     "execution_count": 23,
     "metadata": {},
     "output_type": "execute_result"
    },
    {
     "data": {
      "image/png": "[encoded data removed]",
      "text/plain": [
       "<Figure size 477.125x360 with 1 Axes>"
      ]
     },
     "metadata": {
      "needs_background": "light"
     },
     "output_type": "display_data"
    }
   ],
   "source": [
    "sns.catplot(x=\"marital\",             # again, layout matters\n",
    "            y=\"age\", \n",
    "            hue='happy',\n",
    "            kind='box',\n",
    "            palette='rainbow',\n",
    "            data=happiness)\n",
    "\n",
    "    \n",
    "plt.xlabel( 'Marital Status ', fontsize=15)\n",
    "plt.ylabel ('Age range' , fontsize=15)\n",
    "plt.title('Relationship Between Age, Happy and Marital Status', fontsize=15)"
   ]
  },
  {
   "cell_type": "markdown",
   "id": "50563934",
   "metadata": {},
   "source": [
    "The visualization represent the relation between age, marital status and happiness. It shows that age doesn't have much affect on age as the distribution is same for married couple and rest of the groups.  "
   ]
  },
  {
   "cell_type": "markdown",
   "id": "f53a14a0",
   "metadata": {},
   "source": [
    "## Crosstab of sex, happy and marital status"
   ]
  },
  {
   "cell_type": "code",
   "execution_count": 24,
   "id": "043a53b8",
   "metadata": {},
   "outputs": [
    {
     "data": {
      "text/html": [
       "<div>\n",
       "<style scoped>\n",
       "    .dataframe tbody tr th:only-of-type {\n",
       "        vertical-align: middle;\n",
       "    }\n",
       "\n",
       "    .dataframe tbody tr th {\n",
       "        vertical-align: top;\n",
       "    }\n",
       "\n",
       "    .dataframe thead th {\n",
       "        text-align: right;\n",
       "    }\n",
       "</style>\n",
       "<table border=\"1\" class=\"dataframe\">\n",
       "  <thead>\n",
       "    <tr style=\"text-align: right;\">\n",
       "      <th>sex</th>\n",
       "      <th>Female</th>\n",
       "      <th>Male</th>\n",
       "    </tr>\n",
       "    <tr>\n",
       "      <th>happy</th>\n",
       "      <th></th>\n",
       "      <th></th>\n",
       "    </tr>\n",
       "  </thead>\n",
       "  <tbody>\n",
       "    <tr>\n",
       "      <th>NOT TOO HAPPY</th>\n",
       "      <td>0.551095</td>\n",
       "      <td>0.448905</td>\n",
       "    </tr>\n",
       "    <tr>\n",
       "      <th>PRETTY HAPPY</th>\n",
       "      <td>0.540714</td>\n",
       "      <td>0.459286</td>\n",
       "    </tr>\n",
       "    <tr>\n",
       "      <th>VERY HAPPY</th>\n",
       "      <td>0.565878</td>\n",
       "      <td>0.434122</td>\n",
       "    </tr>\n",
       "  </tbody>\n",
       "</table>\n",
       "</div>"
      ],
      "text/plain": [
       "sex              Female      Male\n",
       "happy                            \n",
       "NOT TOO HAPPY  0.551095  0.448905\n",
       "PRETTY HAPPY   0.540714  0.459286\n",
       "VERY HAPPY     0.565878  0.434122"
      ]
     },
     "execution_count": 24,
     "metadata": {},
     "output_type": "execute_result"
    }
   ],
   "source": [
    "pd.crosstab(values=happiness[\"sex\"],\n",
    "            index=happiness[\"happy\"],\n",
    "            columns=happiness[\"sex\"],\n",
    "            aggfunc='count',\n",
    "            normalize='index')"
   ]
  },
  {
   "cell_type": "markdown",
   "id": "f66fd9e8",
   "metadata": {},
   "source": [
    "The association between happiness and sex is shown in the crosstab. We can see that females are happier than males, and the same can be said for those who are not too happy. Because there are more female respondents than males, the female proportion is likely to be larger than the male percentage. Our control variable is sex; now we'll add sex to examine if the relationship between happiness and marital status changes."
   ]
  },
  {
   "cell_type": "code",
   "execution_count": 25,
   "id": "e0da24ff",
   "metadata": {},
   "outputs": [
    {
     "data": {
      "text/html": [
       "<div>\n",
       "<style scoped>\n",
       "    .dataframe tbody tr th:only-of-type {\n",
       "        vertical-align: middle;\n",
       "    }\n",
       "\n",
       "    .dataframe tbody tr th {\n",
       "        vertical-align: top;\n",
       "    }\n",
       "\n",
       "    .dataframe thead th {\n",
       "        text-align: right;\n",
       "    }\n",
       "</style>\n",
       "<table border=\"1\" class=\"dataframe\">\n",
       "  <thead>\n",
       "    <tr style=\"text-align: right;\">\n",
       "      <th></th>\n",
       "      <th>happy</th>\n",
       "      <th>NOT TOO HAPPY</th>\n",
       "      <th>PRETTY HAPPY</th>\n",
       "      <th>VERY HAPPY</th>\n",
       "    </tr>\n",
       "    <tr>\n",
       "      <th>marital</th>\n",
       "      <th>sex</th>\n",
       "      <th></th>\n",
       "      <th></th>\n",
       "      <th></th>\n",
       "    </tr>\n",
       "  </thead>\n",
       "  <tbody>\n",
       "    <tr>\n",
       "      <th rowspan=\"2\" valign=\"top\">Divorced</th>\n",
       "      <th>Female</th>\n",
       "      <td>0.176136</td>\n",
       "      <td>0.619318</td>\n",
       "      <td>0.204545</td>\n",
       "    </tr>\n",
       "    <tr>\n",
       "      <th>Male</th>\n",
       "      <td>0.210145</td>\n",
       "      <td>0.586957</td>\n",
       "      <td>0.202899</td>\n",
       "    </tr>\n",
       "    <tr>\n",
       "      <th rowspan=\"2\" valign=\"top\">Married</th>\n",
       "      <th>Female</th>\n",
       "      <td>0.072165</td>\n",
       "      <td>0.492784</td>\n",
       "      <td>0.435052</td>\n",
       "    </tr>\n",
       "    <tr>\n",
       "      <th>Male</th>\n",
       "      <td>0.065854</td>\n",
       "      <td>0.534146</td>\n",
       "      <td>0.400000</td>\n",
       "    </tr>\n",
       "    <tr>\n",
       "      <th rowspan=\"2\" valign=\"top\">Never married</th>\n",
       "      <th>Female</th>\n",
       "      <td>0.192308</td>\n",
       "      <td>0.600000</td>\n",
       "      <td>0.207692</td>\n",
       "    </tr>\n",
       "    <tr>\n",
       "      <th>Male</th>\n",
       "      <td>0.185606</td>\n",
       "      <td>0.606061</td>\n",
       "      <td>0.208333</td>\n",
       "    </tr>\n",
       "    <tr>\n",
       "      <th rowspan=\"2\" valign=\"top\">Separated</th>\n",
       "      <th>Female</th>\n",
       "      <td>0.350000</td>\n",
       "      <td>0.500000</td>\n",
       "      <td>0.150000</td>\n",
       "    </tr>\n",
       "    <tr>\n",
       "      <th>Male</th>\n",
       "      <td>0.384615</td>\n",
       "      <td>0.461538</td>\n",
       "      <td>0.153846</td>\n",
       "    </tr>\n",
       "    <tr>\n",
       "      <th rowspan=\"2\" valign=\"top\">Widowed</th>\n",
       "      <th>Female</th>\n",
       "      <td>0.181034</td>\n",
       "      <td>0.577586</td>\n",
       "      <td>0.241379</td>\n",
       "    </tr>\n",
       "    <tr>\n",
       "      <th>Male</th>\n",
       "      <td>0.181818</td>\n",
       "      <td>0.681818</td>\n",
       "      <td>0.136364</td>\n",
       "    </tr>\n",
       "  </tbody>\n",
       "</table>\n",
       "</div>"
      ],
      "text/plain": [
       "happy                 NOT TOO HAPPY  PRETTY HAPPY  VERY HAPPY\n",
       "marital       sex                                            \n",
       "Divorced      Female       0.176136      0.619318    0.204545\n",
       "              Male         0.210145      0.586957    0.202899\n",
       "Married       Female       0.072165      0.492784    0.435052\n",
       "              Male         0.065854      0.534146    0.400000\n",
       "Never married Female       0.192308      0.600000    0.207692\n",
       "              Male         0.185606      0.606061    0.208333\n",
       "Separated     Female       0.350000      0.500000    0.150000\n",
       "              Male         0.384615      0.461538    0.153846\n",
       "Widowed       Female       0.181034      0.577586    0.241379\n",
       "              Male         0.181818      0.681818    0.136364"
      ]
     },
     "execution_count": 25,
     "metadata": {},
     "output_type": "execute_result"
    }
   ],
   "source": [
    "happiness.groupby([\"marital\", \"sex\"])[\"happy\"].value_counts(normalize=True).unstack()"
   ]
  },
  {
   "cell_type": "code",
   "execution_count": 26,
   "id": "b5ca247d",
   "metadata": {},
   "outputs": [
    {
     "data": {
      "text/plain": [
       "Text(0.5, 1.0, 'Relationship Between sex, Happy and Marital Status')"
      ]
     },
     "execution_count": 26,
     "metadata": {},
     "output_type": "execute_result"
    },
    {
     "data": {
      "image/png": "[encoded data removed]",
      "text/plain": [
       "<Figure size 720x720 with 1 Axes>"
      ]
     },
     "metadata": {
      "needs_background": "light"
     },
     "output_type": "display_data"
    }
   ],
   "source": [
    "happiness.groupby([\"marital\", \"sex\"])[\"happy\"].value_counts(normalize=True).unstack().plot(kind =\"bar\", figsize=(10, 10) )\n",
    "plt.xlabel( 'Marital Status, sex ', fontsize=15)\n",
    "plt.ylabel ('proportion' , fontsize=15)\n",
    "plt.title('Relationship Between sex, Happy and Marital Status', fontsize=15)\n"
   ]
  },
  {
   "cell_type": "markdown",
   "id": "231b7442",
   "metadata": {},
   "source": [
    "This is a visual representation of the crosstab we made with sex, marital status, and happiness. According to the graphic, the lowest percentage of married women and men are \"not too happy,\" with the gap between the male and happy being only 0.5 percent. Furthermore, 43 percent of married women and 40 percent of married men are \"very happy,\" which is greater than the rest of the groups. We can conclude that females are happier than males among married respondents. On the other hand, married people, regardless of gender, are less pretty happy than other groups of people.\n",
    "\n",
    "We can observe that nearly 93 percent of married males and 92 percent of married females are happy after adding the percentages of pretty happy and very happy. The rest of the group is content, with 70 percent to 80 percent of respondents happy. As a result, we can conclude that married men are happier."
   ]
  },
  {
   "cell_type": "markdown",
   "id": "29961144",
   "metadata": {},
   "source": [
    "# Conclusion"
   ]
  },
  {
   "cell_type": "markdown",
   "id": "767477b3",
   "metadata": {},
   "source": [
    "We can infer from the findings that married people are indeed happier. The crosstab analysis backs up the result. We can observe that introducing the control variable age has little effect on happiness and marital status. Using the sex variable, however, we can see that the assumption is valid in some ways. There are numerous other factors that influence happiness."
   ]
  }
 ],
 "metadata": {
  "kernelspec": {
   "display_name": "Python 3 (ipykernel)",
   "language": "python",
   "name": "python3"
  },
  "language_info": {
   "codemirror_mode": {
    "name": "ipython",
    "version": 3
   },
   "file_extension": ".py",
   "mimetype": "text/x-python",
   "name": "python",
   "nbconvert_exporter": "python",
   "pygments_lexer": "ipython3",
   "version": "3.7.11"
  }
 },
 "nbformat": 4,
 "nbformat_minor": 5
}
